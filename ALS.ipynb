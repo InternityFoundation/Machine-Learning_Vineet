{
  "nbformat": 4,
  "nbformat_minor": 0,
  "metadata": {
    "colab": {
      "name": "ALS.ipynb",
      "version": "0.3.2",
      "provenance": [],
      "collapsed_sections": []
    },
    "kernelspec": {
      "name": "python3",
      "display_name": "Python 3"
    }
  },
  "cells": [
    {
      "metadata": {
        "id": "Bbf4VEOgYVny",
        "colab_type": "code",
        "colab": {}
      },
      "cell_type": "code",
      "source": [
        "#IMPLEMENTATION OF ALS\n"
      ],
      "execution_count": 0,
      "outputs": []
    },
    {
      "metadata": {
        "id": "bI6_DdqrY1Ri",
        "colab_type": "code",
        "colab": {
          "base_uri": "https://localhost:8080/",
          "height": 190
        },
        "outputId": "60ca718e-e161-4478-fc44-fb3be94c5d24"
      },
      "cell_type": "code",
      "source": [
        "!pip install fastFM"
      ],
      "execution_count": 4,
      "outputs": [
        {
          "output_type": "stream",
          "text": [
            "Collecting fastFM\n",
            "\u001b[?25l  Downloading https://files.pythonhosted.org/packages/f5/15/fdbb9b9455efa48ffb07b9880a1e567e0c7a7de0acc4aa7f1c5ba9ce4f2c/fastFM-0.2.11-cp36-cp36m-manylinux1_x86_64.whl (483kB)\n",
            "\u001b[K    100% |████████████████████████████████| 491kB 13.7MB/s \n",
            "\u001b[?25hRequirement already satisfied: cython in /usr/local/lib/python3.6/dist-packages (from fastFM) (0.29.2)\n",
            "Requirement already satisfied: numpy in /usr/local/lib/python3.6/dist-packages (from fastFM) (1.14.6)\n",
            "Requirement already satisfied: scikit-learn in /usr/local/lib/python3.6/dist-packages (from fastFM) (0.20.2)\n",
            "Requirement already satisfied: scipy in /usr/local/lib/python3.6/dist-packages (from fastFM) (1.1.0)\n",
            "Installing collected packages: fastFM\n",
            "Successfully installed fastFM-0.2.11\n"
          ],
          "name": "stdout"
        }
      ]
    },
    {
      "metadata": {
        "id": "nsB22KkUZCvc",
        "colab_type": "code",
        "colab": {}
      },
      "cell_type": "code",
      "source": [
        "import fastFM"
      ],
      "execution_count": 0,
      "outputs": []
    },
    {
      "metadata": {
        "id": "xbwaF7fGZHJu",
        "colab_type": "code",
        "colab": {}
      },
      "cell_type": "code",
      "source": [
        "from fastFM.datasets import make_user_item_regression\n",
        "from sklearn.model_selection import train_test_split"
      ],
      "execution_count": 0,
      "outputs": []
    },
    {
      "metadata": {
        "id": "NSMEQhqZZTTj",
        "colab_type": "code",
        "colab": {}
      },
      "cell_type": "code",
      "source": [
        "X, y, _ = make_user_item_regression(label_stdev=.4)\n",
        "X_train, X_test, y_train, y_test = train_test_split(X, y)"
      ],
      "execution_count": 0,
      "outputs": []
    },
    {
      "metadata": {
        "id": "rCceNJqoZYJf",
        "colab_type": "code",
        "colab": {}
      },
      "cell_type": "code",
      "source": [
        "from fastFM import als\n",
        "fm = als.FMRegression(n_iter=1000, init_stdev=0.1, rank=2, l2_reg_w=0.1, l2_reg_V=0.5) #here we are performing regression with ALS solver.\n",
        "fm.fit(X_train, y_train) #here we are setting up the dataset\n",
        "y_pred = fm.predict(X_test) #the parameters have to be specified for every solver and task"
      ],
      "execution_count": 0,
      "outputs": []
    },
    {
      "metadata": {
        "id": "EfILudoZZcuU",
        "colab_type": "code",
        "colab": {
          "base_uri": "https://localhost:8080/",
          "height": 34
        },
        "outputId": "6ab60d22-9f6c-475f-bd02-76dabbb07228"
      },
      "cell_type": "code",
      "source": [
        "from sklearn.metrics import mean_squared_error\n",
        "'mse:', mean_squared_error(y_test, y_pred)"
      ],
      "execution_count": 10,
      "outputs": [
        {
          "output_type": "execute_result",
          "data": {
            "text/plain": [
              "('mse:', 0.23488300969829176)"
            ]
          },
          "metadata": {
            "tags": []
          },
          "execution_count": 10
        }
      ]
    },
    {
      "metadata": {
        "id": "PdpHRpDMZgWU",
        "colab_type": "code",
        "colab": {}
      },
      "cell_type": "code",
      "source": [
        "import numpy as np"
      ],
      "execution_count": 0,
      "outputs": []
    },
    {
      "metadata": {
        "id": "VGD46KNja-gm",
        "colab_type": "text"
      },
      "cell_type": "markdown",
      "source": [
        "**Logit classification with SGD solver**"
      ]
    },
    {
      "metadata": {
        "id": "mtooqPqfZk9B",
        "colab_type": "code",
        "colab": {}
      },
      "cell_type": "code",
      "source": [
        "# Convert dataset to binary classification task.\n",
        "y_labels = np.ones_like(y)\n",
        "y_labels[y < np.mean(y)] = -1\n",
        "X_train, X_test, y_train, y_test = train_test_split(X, y_labels)"
      ],
      "execution_count": 0,
      "outputs": []
    },
    {
      "metadata": {
        "id": "V0jZhJ1tZpp8",
        "colab_type": "code",
        "colab": {}
      },
      "cell_type": "code",
      "source": [
        "from fastFM import sgd\n",
        "fm = sgd.FMClassification(n_iter=1000, init_stdev=0.1, l2_reg_w=0,\n",
        "                          l2_reg_V=0, rank=2, step_size=0.1)\n",
        "fm.fit(X_train, y_train)\n",
        "y_pred = fm.predict(X_test)"
      ],
      "execution_count": 0,
      "outputs": []
    },
    {
      "metadata": {
        "id": "BJHTqjRoZtzG",
        "colab_type": "code",
        "colab": {}
      },
      "cell_type": "code",
      "source": [
        "y_pred_proba = fm.predict_proba(X_test) #we are returning the class probabilities with predict_proba"
      ],
      "execution_count": 0,
      "outputs": []
    },
    {
      "metadata": {
        "id": "BQrAM1WfZxLQ",
        "colab_type": "code",
        "colab": {
          "base_uri": "https://localhost:8080/",
          "height": 34
        },
        "outputId": "2d6ca4cf-63c1-4986-b873-847e2b139250"
      },
      "cell_type": "code",
      "source": [
        "from sklearn.metrics import accuracy_score, roc_auc_score\n",
        "'acc:', accuracy_score(y_test, y_pred)\n",
        "'auc:', roc_auc_score(y_test, y_pred_proba) #auc score requires class probabilities as input."
      ],
      "execution_count": 15,
      "outputs": [
        {
          "output_type": "execute_result",
          "data": {
            "text/plain": [
              "('auc:', 0.9647435897435899)"
            ]
          },
          "metadata": {
            "tags": []
          },
          "execution_count": 15
        }
      ]
    },
    {
      "metadata": {
        "id": "hNsgSVolbfuk",
        "colab_type": "text"
      },
      "cell_type": "markdown",
      "source": [
        "**Bayesian Probit Classification with MCMC solver**"
      ]
    },
    {
      "metadata": {
        "id": "4xDxg0R8Z7Bt",
        "colab_type": "code",
        "colab": {}
      },
      "cell_type": "code",
      "source": [
        "from fastFM import mcmc\n",
        "fm = mcmc.FMClassification(n_iter=1000, rank=2, init_stdev=0.1)"
      ],
      "execution_count": 0,
      "outputs": []
    },
    {
      "metadata": {
        "id": "WcRJHoceZ8Q9",
        "colab_type": "code",
        "colab": {}
      },
      "cell_type": "code",
      "source": [
        "y_pred = fm.fit_predict(X_train, y_train, X_test)\n",
        "y_pred_proba = fm.fit_predict_proba(X_train, y_train, X_test)"
      ],
      "execution_count": 0,
      "outputs": []
    },
    {
      "metadata": {
        "id": "C5ePiw6zaAV6",
        "colab_type": "code",
        "colab": {
          "base_uri": "https://localhost:8080/",
          "height": 34
        },
        "outputId": "52d4c079-ab73-43cf-c2cf-3d68fe5d48f2"
      },
      "cell_type": "code",
      "source": [
        "from sklearn.metrics import accuracy_score, roc_auc_score\n",
        "'acc:', accuracy_score(y_test, y_pred)\n",
        "'auc:', roc_auc_score(y_test, y_pred_proba)"
      ],
      "execution_count": 18,
      "outputs": [
        {
          "output_type": "execute_result",
          "data": {
            "text/plain": [
              "('auc:', 0.9903846153846154)"
            ]
          },
          "metadata": {
            "tags": []
          },
          "execution_count": 18
        }
      ]
    }
  ]
}